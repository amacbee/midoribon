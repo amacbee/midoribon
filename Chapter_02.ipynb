{
 "metadata": {
  "name": "",
  "signature": "sha256:a6048d2750673d312f5be6aa1f4821685bf7844b3597691ed41fddc3549b13a8"
 },
 "nbformat": 3,
 "nbformat_minor": 0,
 "worksheets": [
  {
   "cells": [
    {
     "cell_type": "markdown",
     "metadata": {},
     "source": [
      "# \u30c7\u30fc\u30bf\u89e3\u6790\u306e\u305f\u3081\u306e\u7d71\u8a08\u30e2\u30c7\u30ea\u30f3\u30b0\u5165\u9580"
     ]
    },
    {
     "cell_type": "markdown",
     "metadata": {},
     "source": [
      "## 2\u7ae0 \u78ba\u7387\u5206\u5e03\u3068\u7d71\u8a08\u30e2\u30c7\u30eb\u306e\u6700\u5c24\u63a8\u5b9a"
     ]
    },
    {
     "cell_type": "code",
     "collapsed": false,
     "input": [
      "import pandas as pd\n",
      "pyplot.style.use('ggplot')"
     ],
     "language": "python",
     "metadata": {},
     "outputs": [],
     "prompt_number": 1
    },
    {
     "cell_type": "markdown",
     "metadata": {},
     "source": [
      "### 2.1 \u4f8b\u984c\uff1a\u7a2e\u5b50\u6570\u306e\u7d71\u8a08\u30e2\u30c7\u30ea\u30f3\u30b0\n",
      "\n",
      "\u67b6\u7a7a\u690d\u726950\u4f53\u306e\u7a2e\u5b50\u6570\u306e\u30c7\u30fc\u30bf"
     ]
    },
    {
     "cell_type": "code",
     "collapsed": false,
     "input": [
      "data = pd.DataFrame(pd.Series([2, 2, 4, 6, 4, 5, 2, 3, 1, 2, 0, 4, 3, 3, 3, 3, 4, 2, 7, 2, 4, 3, 3 , 3, 4,\n",
      "                     3, 7, 5, 3, 1, 7, 6, 4, 6, 5, 2, 4, 7, 2, 2, 6, 2, 4, 5, 4, 5, 1, 3, 2, 3]), columns=['seeds'])\n",
      "data.head()"
     ],
     "language": "python",
     "metadata": {},
     "outputs": [
      {
       "html": [
        "<div style=\"max-height:1000px;max-width:1500px;overflow:auto;\">\n",
        "<table border=\"1\" class=\"dataframe\">\n",
        "  <thead>\n",
        "    <tr style=\"text-align: right;\">\n",
        "      <th></th>\n",
        "      <th>seeds</th>\n",
        "    </tr>\n",
        "  </thead>\n",
        "  <tbody>\n",
        "    <tr>\n",
        "      <th>0</th>\n",
        "      <td> 2</td>\n",
        "    </tr>\n",
        "    <tr>\n",
        "      <th>1</th>\n",
        "      <td> 2</td>\n",
        "    </tr>\n",
        "    <tr>\n",
        "      <th>2</th>\n",
        "      <td> 4</td>\n",
        "    </tr>\n",
        "    <tr>\n",
        "      <th>3</th>\n",
        "      <td> 6</td>\n",
        "    </tr>\n",
        "    <tr>\n",
        "      <th>4</th>\n",
        "      <td> 4</td>\n",
        "    </tr>\n",
        "  </tbody>\n",
        "</table>\n",
        "</div>"
       ],
       "metadata": {},
       "output_type": "pyout",
       "prompt_number": 2,
       "text": [
        "   seeds\n",
        "0      2\n",
        "1      2\n",
        "2      4\n",
        "3      6\n",
        "4      4"
       ]
      }
     ],
     "prompt_number": 2
    },
    {
     "cell_type": "code",
     "collapsed": false,
     "input": [
      "data.describe()  # \u8981\u7d04\u7d71\u8a08\u91cf"
     ],
     "language": "python",
     "metadata": {},
     "outputs": [
      {
       "html": [
        "<div style=\"max-height:1000px;max-width:1500px;overflow:auto;\">\n",
        "<table border=\"1\" class=\"dataframe\">\n",
        "  <thead>\n",
        "    <tr style=\"text-align: right;\">\n",
        "      <th></th>\n",
        "      <th>seeds</th>\n",
        "    </tr>\n",
        "  </thead>\n",
        "  <tbody>\n",
        "    <tr>\n",
        "      <th>count</th>\n",
        "      <td> 50.00000</td>\n",
        "    </tr>\n",
        "    <tr>\n",
        "      <th>mean</th>\n",
        "      <td>  3.56000</td>\n",
        "    </tr>\n",
        "    <tr>\n",
        "      <th>std</th>\n",
        "      <td>  1.72804</td>\n",
        "    </tr>\n",
        "    <tr>\n",
        "      <th>min</th>\n",
        "      <td>  0.00000</td>\n",
        "    </tr>\n",
        "    <tr>\n",
        "      <th>25%</th>\n",
        "      <td>  2.00000</td>\n",
        "    </tr>\n",
        "    <tr>\n",
        "      <th>50%</th>\n",
        "      <td>  3.00000</td>\n",
        "    </tr>\n",
        "    <tr>\n",
        "      <th>75%</th>\n",
        "      <td>  4.75000</td>\n",
        "    </tr>\n",
        "    <tr>\n",
        "      <th>max</th>\n",
        "      <td>  7.00000</td>\n",
        "    </tr>\n",
        "  </tbody>\n",
        "</table>\n",
        "</div>"
       ],
       "metadata": {},
       "output_type": "pyout",
       "prompt_number": 3,
       "text": [
        "          seeds\n",
        "count  50.00000\n",
        "mean    3.56000\n",
        "std     1.72804\n",
        "min     0.00000\n",
        "25%     2.00000\n",
        "50%     3.00000\n",
        "75%     4.75000\n",
        "max     7.00000"
       ]
      }
     ],
     "prompt_number": 3
    },
    {
     "cell_type": "code",
     "collapsed": false,
     "input": [
      "data.seeds.value_counts().sort_index()  # \u5ea6\u6570\u5206\u5e03"
     ],
     "language": "python",
     "metadata": {},
     "outputs": [
      {
       "metadata": {},
       "output_type": "pyout",
       "prompt_number": 4,
       "text": [
        "0     1\n",
        "1     3\n",
        "2    11\n",
        "3    12\n",
        "4    10\n",
        "5     5\n",
        "6     4\n",
        "7     4\n",
        "dtype: int64"
       ]
      }
     ],
     "prompt_number": 4
    },
    {
     "cell_type": "code",
     "collapsed": false,
     "input": [
      "data.seeds.hist(bins=8)  # \u30d2\u30b9\u30c8\u30b0\u30e9\u30e0\n",
      "xlabel('data')\n",
      "ylabel('Frequency')"
     ],
     "language": "python",
     "metadata": {},
     "outputs": [
      {
       "metadata": {},
       "output_type": "pyout",
       "prompt_number": 5,
       "text": [
        "<matplotlib.text.Text at 0x111422ad0>"
       ]
      },
      {
       "metadata": {},
       "output_type": "display_data",
       "png": "[encoded data removed]",
       "text": [
        "<matplotlib.figure.Figure at 0x1113afc10>"
       ]
      }
     ],
     "prompt_number": 5
    },
    {
     "cell_type": "code",
     "collapsed": false,
     "input": [
      "data.seeds.var()  # \u6a19\u672c\u5206\u6563"
     ],
     "language": "python",
     "metadata": {},
     "outputs": [
      {
       "metadata": {},
       "output_type": "pyout",
       "prompt_number": 6,
       "text": [
        "2.986122448979593"
       ]
      }
     ],
     "prompt_number": 6
    },
    {
     "cell_type": "code",
     "collapsed": false,
     "input": [
      "data.seeds.std()  # \u6a19\u672c\u6a19\u6e96\u504f\u5dee"
     ],
     "language": "python",
     "metadata": {},
     "outputs": [
      {
       "metadata": {},
       "output_type": "pyout",
       "prompt_number": 7,
       "text": [
        "1.7280400600042793"
       ]
      }
     ],
     "prompt_number": 7
    },
    {
     "cell_type": "markdown",
     "metadata": {},
     "source": [
      "### 2.2 \u30c7\u30fc\u30bf\u3068\u78ba\u7387\u5206\u5e03\u306e\u5bfe\u5fdc\u95a2\u4fc2\u3092\u306a\u304c\u3081\u308b\n",
      "\n",
      "\u308f\u304b\u3063\u305f\u3053\u3068\n",
      "\n",
      "- 1\u500b\uff0c2\u500b\uff0c\u2026\u3068\u6570\u3048\u3089\u308c\u308b\u30ab\u30a6\u30f3\u30c8\u30c7\u30fc\u30bf\n",
      "- 1\u500b\u4f53\u306e\u7a2e\u5b50\u6570\u306e\u6a19\u672c\u5e73\u5747\u306f3.56\u500b\n",
      "- \u500b\u4f53\u3054\u3068\u306e\u7a2e\u5b50\u6570\u306b\u3070\u3089\u3064\u304d\u304c\u3042\u308a\uff0c\u30d2\u30b9\u30c8\u30b0\u30e9\u30e0\u3092\u63cf\u304f\u3068\u3072\u3068\u5c71\u306e\u5206\u5e03\u306b\u306a\u308b\n",
      "\n",
      "\u2192\u3000\u30c7\u30fc\u30bf\u306b\u898b\u3089\u308c\u308b\u3053\u306e\u3088\u3046\u306a\u3070\u3089\u3064\u304d\u3092\u3042\u3089\u308f\u3059\u305f\u3081\u306b\uff0c__\u78ba\u7387\u5206\u5e03__\u3092\u4f7f\u3046  \n",
      "\u2192\u3000\uff08\u5510\u7a81\u3060\u3051\u3069\u30fb\u30fb\u30fb\uff09\u7a2e\u5b50\u6570\u30c7\u30fc\u30bf\u3092\u7d71\u8a08\u30e2\u30c7\u30eb\u3068\u3057\u3066\u8868\u73fe\u3059\u308b\u305f\u3081\u306b\u306f\uff0c\u30dd\u30a2\u30bd\u30f3\u5206\u5e03\u304c\u4fbf\u5229\u3067\u3042\u308b\u3068\u4eee\u5b9a\u3059\u308b  \n",
      "\n",
      "\u5e73\u5747\u304c3.56\u3068\u306a\u308b\u30dd\u30a2\u30bd\u30f3\u5206\u5e03\u306b\u3064\u3044\u3066\u8abf\u67fb"
     ]
    },
    {
     "cell_type": "code",
     "collapsed": false,
     "input": [
      "# \u5e73\u57473.56\u306e\u30dd\u30a2\u30bd\u30f3\u5206\u5e03 (\u5404\u30c7\u30fc\u30bf\u5929\u306b\u304a\u3051\u308b\u78ba\u7387\u306e\u30d7\u30ed\u30c3\u30c8)\n",
      "import math\n",
      "poisson = lambda k, mu: math.exp(-mu) * mu ** k / math.factorial(k)\n",
      "\n",
      "y = range(0, 10)\n",
      "probs = [poisson(k, 3.56) for k in y]\n",
      "\n",
      "plot(y, probs, 'o--', color='g')"
     ],
     "language": "python",
     "metadata": {},
     "outputs": [
      {
       "metadata": {},
       "output_type": "pyout",
       "prompt_number": 8,
       "text": [
        "[<matplotlib.lines.Line2D at 0x111621810>]"
       ]
      },
      {
       "metadata": {},
       "output_type": "display_data",
       "png": "[encoded data removed]",
       "text": [
        "<matplotlib.figure.Figure at 0x11147b9d0>"
       ]
      }
     ],
     "prompt_number": 8
    },
    {
     "cell_type": "markdown",
     "metadata": {},
     "source": [
      "\u7a2e\u5b50\u6570\u306e\u500b\u4f53\u9593\u306e\u3070\u3089\u3064\u304d\u3092\u3042\u3089\u308f\u3059\u8fd1\u4f3c\u7684\u306a\u8868\u73fe\u624b\u6cd5  \n",
      "\u3000\u2192 \u3042\u308b\u690d\u7269\u500b\u4f53\u306e\u7a2e\u5b50\u6570\u304c\u30bc\u30ed\u3067\u3042\u308b\u78ba\u7387\u306f0.03\u3050\u3089\u3044\n",
      " \n",
      "\u203b\u3053\u3053\u3067\u3044\u3046\u300c\u3070\u3089\u3064\u304d\u300d\u3068\u306f\uff0c\u7d71\u8a08\u5b66\u7528\u8a9e\u3067\u3044\u3046\u3068\u3053\u308d\u306e __\u8aa4\u5dee (error)__ \u306e\u3053\u3068"
     ]
    },
    {
     "cell_type": "code",
     "collapsed": false,
     "input": [
      "data.seeds.hist(bins=8, normed=True)\n",
      "plot(y, probs, 'o--', color='g')"
     ],
     "language": "python",
     "metadata": {},
     "outputs": [
      {
       "metadata": {},
       "output_type": "pyout",
       "prompt_number": 9,
       "text": [
        "[<matplotlib.lines.Line2D at 0x1113afa50>]"
       ]
      },
      {
       "metadata": {},
       "output_type": "display_data",
       "png": "[encoded data removed]",
       "text": [
        "<matplotlib.figure.Figure at 0x1113afa90>"
       ]
      }
     ],
     "prompt_number": 9
    },
    {
     "cell_type": "markdown",
     "metadata": {},
     "source": [
      "\u7d71\u8a08\u30e2\u30c7\u30ea\u30f3\u30b0\u3067\u306f\uff0c\u78ba\u7387\u5206\u5e03\u3092\u4f7f\u3048\u3070\u3070\u3089\u3064\u304d\u306e\u3042\u308b\u4e8b\u8c61\u30fb\u73fe\u8c61\u3092\u8a18\u8ff0\u3067\u304d\u308b  \n",
      "\u89b3\u6e2c\u3055\u308c\u305f\u3070\u3089\u3064\u304d\u306f\u30dd\u30a2\u30bd\u30f3\u5206\u5e03\u3067\u8868\u73fe\u51fa\u6765\u3066\u3044\u308b\u3063\u307d\u3044"
     ]
    },
    {
     "cell_type": "markdown",
     "metadata": {},
     "source": [
      "### 2.3 \u30dd\u30a2\u30bd\u30f3\u5206\u5e03\u3068\u306f\u306a\u306b\u304b\uff1f\n",
      "\n",
      "\u30dd\u30a2\u30bd\u30f3\u5206\u5e03 (Poisson distribution)  \n",
      "\u5358\u4f4d\u6642\u9593\u3042\u305f\u308a\u5e73\u5747$\\lambda$\u56de\u304a\u3053\u308b\u4e8b\u8c61\u304c\uff0c\u5358\u4f4d\u6642\u9593\u4e2d\u306b$x$\u56de\u8d77\u3053\u308b\u78ba\u7387\n",
      "\n",
      "$$p(y|\\lambda)=\\frac{\\lambda^y \\exp(-\\lambda)}{y!}$$\n",
      "$$\\sum_{y=0}^{\\infty}p(y|\\lambda)=1$$\n",
      "\n",
      "- \u78ba\u7387\u5206\u5e03\u306e\u5e73\u5747\u306f$\\lambda$ ($\\lambda$ \u2267 0)\n",
      "- \u5206\u6563\u3068\u5e73\u5747\u306f\u7b49\u3057\u3044"
     ]
    },
    {
     "cell_type": "code",
     "collapsed": false,
     "input": [
      "# \u03bb\u3092\u5909\u5316\u3055\u305b\u305f\u5834\u5408\u306e\u30dd\u30a2\u30bd\u30f3\u5206\u5e03\u306e\u5909\u5316\n",
      "y = range(0, 20)\n",
      "lams = [3.5, 7.7, 15.1]\n",
      "for lam in lams:\n",
      "    plot(y, [poisson(k, lam) for k in y], 'o--')\n",
      "\n",
      "legend(lams)\n",
      "xlabel('y')\n",
      "ylabel('prob')"
     ],
     "language": "python",
     "metadata": {},
     "outputs": [
      {
       "metadata": {},
       "output_type": "pyout",
       "prompt_number": 10,
       "text": [
        "<matplotlib.text.Text at 0x111787210>"
       ]
      },
      {
       "metadata": {},
       "output_type": "display_data",
       "png": "[encoded data removed]",
       "text": [
        "<matplotlib.figure.Figure at 0x11179b8d0>"
       ]
      }
     ],
     "prompt_number": 10
    },
    {
     "cell_type": "markdown",
     "metadata": {},
     "source": [
      "\u306a\u305c\u30dd\u30a2\u30bd\u30f3\u5206\u5e03\u3092\u9078\u629e\u3057\u305f\u306e\u304b\uff1f\u3068\u3044\u3046\u8cea\u554f\u306b\u306f\uff0c\u4ee5\u4e0b\u306e\u901a\u30ea\u7b54\u3048\u3089\u308c\u308b\u3060\u308d\u3046\n",
      "\n",
      "- \u30c7\u30fc\u30bf\u306b\u542b\u307e\u308c\u308b\u5024\u304c\u975e\u8ca0\u306e\u6574\u6570\u3067\u3042\u308b\uff08\u30ab\u30a6\u30f3\u30c8\u30c7\u30fc\u30bf\u3067\u3042\u308b\uff09\n",
      "- \u4e0b\u9650 (\u30bc\u30ed) \u306f\u3042\u308b\u3088\u3046\u3060\u304c\u4e0a\u9650\u304c\u5206\u304b\u3089\u306a\u3044\n",
      "- \u89b3\u6e2c\u30c7\u30fc\u30bf\u306b\u304a\u3051\u308b\u5e73\u5747\u3068\u5206\u6563\u304c\u5927\u4f53\u540c\u3058\n",
      "\n",
      "\u4f8b\u984c\u306e\u3088\u3046\u306b\uff0c\u5e73\u5747$\\lambda$\u306e\u30dd\u30a2\u30bd\u30f3\u5206\u5e03\u304b\u3089\u3070\u3089\u3064\u304d\u306e\u3042\u308b\u7a2e\u5b50\u30c7\u30fc\u30bf\u304c\u767a\u751f\u3057\u305f\u3068\u3044\u3046\u7d71\u8a08\u30e2\u30c7\u30eb\u3092\u4f5c\u308b\u305f\u3081\u306b\u306f\uff0c\u305d\u306e\u4ed6\u306b\u3082\u3044\u304f\u3064\u304b\u306e\u524d\u63d0\u304c\u5fc5\u8981 (\u4f8b\u3048\u3070\u4ee5\u4e0b)\n",
      "\n",
      "- \u8272\u3005\u306a\u6761\u4ef6\u3092\u305d\u308d\u3048\u3066\u3044\u308b\u72b6\u6cc1\u3067\u306f\uff0c\u3069\u306e\u500b\u4f53\u3067\u3082\u7a2e\u5b50\u6570\u306e\u5e73\u5747\u304c\u540c\u3058\u3067\u3042\u308a\uff0c\u500b\u4f53\u3054\u3068\u306b\u9055\u3044\u306f\u306a\u3044  \n",
      "  \u2192 \u4ee5\u4e0b\u306e\u3088\u3046\u306a\u516850\u500b\u4f53\u306e\u30c7\u30fc\u30bf\u304b\u3089\u5168\u4f53\u500b\u306b\u5171\u901a\u3059\u308b$\\lambda$\u306f3.56\u3050\u3089\u3044\u304b\u306a\u3068\u3044\u3063\u305f\u61b6\u6e2c\u304c\u53ef\u80fd\u306b\u306a\u308b\n",
      "  - \u500b\u4f531\u306e\u7a2e\u5b50\u6570\u306f\u5e73\u5747$\\lambda$\u306e\u30dd\u30a2\u30bd\u30f3\u5206\u5e03\u306b\u5f93\u3046\u3068\u4eee\u5b9a \u2192 \u89b3\u6e2c\u3055\u308c\u305f\u7a2e\u5b50\u6570\u306f2\u3060\u3063\u305f\n",
      "  - \u500b\u4f532\u306e\u7a2e\u5b50\u6570\u306f\u5e73\u5747$\\lambda$\u306e\u30dd\u30a2\u30bd\u30f3\u5206\u5e03\u306b\u5f93\u3046\u3068\u4eee\u5b9a \u2192 \u89b3\u6e2c\u3055\u308c\u305f\u7a2e\u5b50\u6570\u306f2\u3060\u3063\u305f\n",
      "  - \u500b\u4f533\u306e\u7a2e\u5b50\u6570\u306f\u5e73\u5747$\\lambda$\u306e\u30dd\u30a2\u30bd\u30f3\u5206\u5e03\u306b\u5f93\u3046\u3068\u4eee\u5b9a \u2192 \u89b3\u6e2c\u3055\u308c\u305f\u7a2e\u5b50\u6570\u306f4\u3060\u3063\u305f\n",
      "- \u500b\u4f53\u3069\u3046\u3057\u306f\u72ec\u7acb\u3067\u3042\u308a\uff0c\u500b\u4f53\u9593\u306e\u76f8\u95a2\u3084\u76f8\u4e92\u4f5c\u7528\u306f\u306a\u3044"
     ]
    },
    {
     "cell_type": "markdown",
     "metadata": {},
     "source": [
      "### 2.4 \u30dd\u30a2\u30bd\u30f3\u5206\u5e03\u306e\u30d1\u30e9\u30e1\u30fc\u30bf\u30fc\u306e\u6700\u5c24\u63a8\u5b9a\n",
      "\n",
      "\u78ba\u7387\u5206\u5e03\u306e\u30d1\u30e9\u30e1\u30fc\u30bf\u3092\uff0c\u89b3\u6e2c\u30c7\u30fc\u30bf\u306b\u3082\u3068\u3065\u304d\u63a8\u5b9a\u3059\u308b\u65b9\u6cd5\u3092\u8003\u3048\u308b  \n",
      "\u3053\u3053\u3067\u306f __\u6700\u5c24\u63a8\u5b9a (maximum likelihood estimation)__ \u3092\u5229\u7528  \n",
      "\u3000\u2192 \u5c24\u5ea6 (=\u3042\u3066\u306f\u307e\u308a\u306e\u826f\u3055) \u3092\u3042\u3089\u308f\u3059\u7d71\u8a08\u91cf\u3092\u6700\u5927\u306b\u3059\u308b\u3088\u3046\u306a\u30d1\u30e9\u30e1\u30fc\u30bf\u5024\u3092\u63a2\u3059\u30d1\u30e9\u30e1\u30fc\u30bf\u63a8\u5b9a\u6cd5  \n",
      "50\u500b\u306e\u4e8b\u8c61\u304c\u540c\u6642\u306b\u771f\u3067\u3042\u308b\u78ba\u7387\u3092\u6700\u5927\u5316\u3059\u308b\u30d1\u30e9\u30e1\u30fc\u30bf\u3092\u63a2\u3059\n",
      "\n",
      "$$L(\\lambda) = \\prod_ip(y_i|\\lambda) = \\prod_i\\frac{\\lambda^{y_i}\\exp(-\\lambda)}{y_i!}$$\n",
      "\n",
      "\u3053\u306e\u307e\u307e\u3067\u306f\u4f7f\u3044\u306b\u304f\u3044\u306e\u3067\uff0c __\u5bfe\u6570\u5c24\u5ea6\u95a2\u6570 (log likelihood function)__ \u3092\u4f7f\u3063\u3066\u30d1\u30e9\u30e1\u30fc\u30bf\u3092\u6700\u5c24\u63a8\u5b9a\u3059\u308b\n",
      "\n",
      "$$\\log L(\\lambda) = \\sum_i \\left(y_i \\log\\lambda-\\lambda-\\sum_k^{y_i}\\log k\\right)$$"
     ]
    },
    {
     "cell_type": "markdown",
     "metadata": {},
     "source": [
      "\u203b\u9762\u5012\u306a\u306e\u3067\u56f3\u306eplot\u306f\u7701\u7565 (p.26\u53c2\u7167)\n",
      "\n",
      "\u5bfe\u6570\u5c24\u5ea6\u304c\u5927\u304d\u3044\u307b\u3069\u89b3\u6e2c\u30c7\u30fc\u30bf\u3068\u30dd\u30a2\u30bd\u30f3\u5206\u5e03\u304c\u300c\u4f3c\u3066\u3044\u308b\u300d\u3088\u3046\u306b\u898b\u3048\u308b"
     ]
    },
    {
     "cell_type": "code",
     "collapsed": false,
     "input": [
      "# \u03bb\u3068\u5bfe\u6570\u5c24\u5ea6\u306e\u95a2\u4fc2\n",
      "logl = lambda lam, data: sum([math.log(poisson(k, lam)) for k in data])\n",
      "lams = [i * 0.1 for i in range(20, 50)]\n",
      "plot(lams, [logl(lam, data.seeds) for lam in lams])\n",
      "xlabel('lambda')\n",
      "ylabel('log likelihood')"
     ],
     "language": "python",
     "metadata": {},
     "outputs": [
      {
       "metadata": {},
       "output_type": "pyout",
       "prompt_number": 11,
       "text": [
        "<matplotlib.text.Text at 0x11191f290>"
       ]
      },
      {
       "metadata": {},
       "output_type": "display_data",
       "png": "[encoded data removed]",
       "text": [
        "<matplotlib.figure.Figure at 0x1115054d0>"
       ]
      }
     ],
     "prompt_number": 11
    },
    {
     "cell_type": "markdown",
     "metadata": {},
     "source": [
      "\u5bfe\u6570\u5c24\u5ea6\u304c\u6700\u5927\u306b\u306a\u308b$\\lambda$\u3092$\\hat\\lambda$\u3068\u3059\u308b  \n",
      "\u3053\u306e\u3068\u304d$\\hat\\lambda$\u306f\uff0c\u5bfe\u6570\u5c24\u5ea6\u95a2\u6570\u304c\u6700\u5927\u5024\u3067\u95a2\u6570\u306e\u50be\u304d\u304c\u30bc\u30ed\u3068\u306a\u308b\u70b9\u306e\u5024\u3067\u3042\u308b\n",
      "\n",
      "$$\\frac{\\partial\\log L(\\lambda)}{\\partial\\lambda}=\\sum_i\\left\\{\\frac{y_i}{\\lambda}-1\\right\\}=\\frac{1}{\\lambda}\\sum_i y_i-50$$\n",
      " \n",
      "$$\\hat\\lambda=\\frac{1}{50}\\sum_iy_i=\\frac{\u5168\u90e8\u306ey_i\u306e\u548c}{\u30c7\u30fc\u30bf\u6570}=\u30c7\u30fc\u30bf\u306e\u6a19\u672c\u5e73\u5747=3.56$$\n",
      "\n",
      "\u5bfe\u6570\u5c24\u5ea6\u3042\u308b\u3044\u306f\u5c24\u5ea6\u304c\u6700\u5927\u306b\u306a\u308b$\\hat\\lambda$\u3092 __\u6700\u5c24\u63a8\u5b9a\u91cf (maximum likelihood estimator)__ \uff0c\u3055\u3089\u306b\u5177\u4f53\u7684\u306a $y_i$ \u306e\u5024\u3092\u4f7f\u3063\u3066\u8a55\u4fa1\u3055\u308c\u305f $\\hat\\lambda=3.56$ \u3092 __\u6700\u5c24\u63a8\u5b9a\u5024 (maximum likelihood estimate)__ \u3068\u547c\u3076\uff0e\n",
      "\n",
      "\u4e00\u822c\u5316\u3059\u308b\u3068\u4ee5\u4e0b\u306e\u3088\u3046\u306b\u66f8\u3051\u308b\n",
      "\n",
      "$$L(\\theta|{\\bf Y})=\\prod_i p(y_i|\\theta)$$\n",
      "\n",
      "$$\\log L(\\theta|{\\bf Y})=\\sum_i \\log p(y_i|\\theta)$$\n",
      "\n",
      "\u6700\u5c24\u63a8\u5b9a\u3067\u306f\uff0c\u3053\u306e\u5bfe\u6570\u5c24\u5ea6\u3092\u6700\u5927\u306b\u3059\u308b\u3088\u3046\u306a $\\hat\\theta$ \u3092\u63a2\u3057\u51fa\u3059\u3053\u3068\u304c\u6700\u7d42\u7684\u306a\u76ee\u7684\u3068\u306a\u308b  \n",
      "\u3053\u308c\u306f\uff0c\u78ba\u7387\u5206\u5e03\u304c\u30dd\u30a2\u30bd\u30f3\u5206\u5e03\u3067\u306a\u3044\u5834\u5408\u3067\u3042\u3063\u3066\u3082\u9069\u7528\u51fa\u6765\u308b"
     ]
    },
    {
     "cell_type": "markdown",
     "metadata": {},
     "source": [
      "#### 2.4.1 \u64ec\u4f3c\u4e71\u6570\u3068\u6700\u5c24\u63a8\u5b9a\u5024\u306e\u3070\u3089\u3064\u304d\n",
      "\n",
      "\u8a08\u7b97\u6a5f\u3092\u4f7f\u3063\u305f\u4e71\u6570\u767a\u751f\u306b\u3064\u3044\u3066\u306e\u8aac\u660e\u3068\uff0c\u305d\u306e\u4ed5\u7d44\u3092\u5229\u7528\u3057\u305f\u63a8\u5b9a\u5024\u306e __\u6a19\u6e96\u8aa4\u5dee (standard error, SE)__ \u306e\u898b\u3064\u3051\u65b9\u306e\u7d39\u4ecb  \n",
      "R\u306b\u3064\u3044\u3066\u306e\u8a71\u304c\u307b\u3068\u3093\u3069\u306a\u306e\u3067\u7701\u7565\n",
      "\n",
      "- \u63a8\u5b9a\u5024\u306e\u3070\u3089\u3064\u304d\u306f __\u6a19\u6e96\u8aa4\u5dee (standard error, SE)__ \u3068\u547c\u3070\u308c\u308b  \n",
      "- \u8abf\u67fb\u500b\u4f53\u6570\u304c\u5927\u304d\u3044\u307b\u3069\u63a8\u5b9a\u5024\u306e\u6a19\u6e96\u8aa4\u5dee\u306f\u5c0f\u3055\u304f\u306a\u308b"
     ]
    },
    {
     "cell_type": "markdown",
     "metadata": {},
     "source": [
      "### 2.5 \u7d71\u8a08\u30e2\u30c7\u30eb\u306e\u8981\u70b9\uff1a\u4e71\u6570\u767a\u751f\u30fb\u63a8\u5b9a\u30fb\u4e88\u6e2c\n",
      "\n",
      "\u7d71\u8a08\u30e2\u30c7\u30ea\u30f3\u30b0\u306e\u6d41\u308c\n",
      "\n",
      "- \u300c\u3053\u3046\u3044\u3046\u3070\u3089\u3064\u304d\u306e\u3042\u308b\u30c7\u30fc\u30bf\u306f\uff0c\u4f55\u304b\u78ba\u7387\u5206\u5e03\u304b\u3089\u767a\u751f\u3057\u305f\u3068\u8003\u3048\u308c\u3070\u3042\u3064\u304b\u3044\u3084\u3059\u305d\u3046\u3060\u306a\u3041\u300d\u3068\u8003\u3048\u308b\n",
      "  - \u30b5\u30f3\u30d7\u30ea\u30f3\u30b0 (sampling) \u3055\u308c\u305f\u6a19\u672c\u304c\u89b3\u6e2c\u30c7\u30fc\u30bf\u3067\u3042\u308b\u3068\u8003\u3048\u3066\u3044\u308b\n",
      "- \u89b3\u6e2c\u30c7\u30fc\u30bf\u3092\u898b\u305f\u3068\u304d\u306b\uff0c\u30c7\u30fc\u30bf\u306e\u3070\u3089\u3064\u304d\u306f\u300c\u307e\u3041\u30dd\u30a2\u30bd\u30f3\u5206\u5e03\u3067\u8aac\u660e\u3067\u304d\u308b\u3060\u308d\u3046\u300d\u3068\u4eee\u5b9a\n",
      "- \u300c\u30d1\u30e9\u30e1\u30fc\u30bf\u03bb\u306f\u3069\u3093\u306a\u5024\uff1f\u300d\u2192 __\u63a8\u5b9a (estimation)__ \uff0c(\u30e2\u30c7\u30eb\u306e\u30c7\u30fc\u30bf\u3078\u306e) __\u3042\u3066\u306f\u3081 (fitting)__\n",
      "- \u6700\u5c24\u63a8\u5b9a\u306b\u3088\u3063\u3066$\\lambda$ \u304c\u5f97\u3089\u308c\u308b\n",
      "\n",
      "__\u4e88\u6e2c (prediciton)__ \u306b\u3064\u3044\u3066  \n",
      "\u63a8\u5b9a\u3067\u5f97\u3089\u308c\u305f\u7d71\u8a08\u30e2\u30c7\u30eb\u3092\u4f7f\u3063\u3066\uff0c\u540c\u3058\u8abf\u67fb\u65b9\u6cd5\u3067\u5f97\u3089\u308c\u308b\u6b21\u306e\u30c7\u30fc\u30bf\u306e\u5206\u5e03\u3092\u898b\u3064\u3051\u308b\u3053\u3068\u304c\u51fa\u6765\u308b  \n",
      "\u63a8\u5b9a\u3055\u308c\u305f\u30e2\u30c7\u30eb\u304c\u65b0\u3057\u304f\u5f97\u3089\u308c\u305f\u30c7\u30fc\u30bf\u306b\u3069\u308c\u304f\u3089\u3044\u826f\u304f\u3042\u3066\u306f\u307e\u308b\u306e\u304b\u3092\u8abf\u67fb\u3057\uff0c\u4e88\u6e2c\u306e\u826f\u3055\u3092\u8a55\u4fa1\u3059\u308b\u3053\u3068\u304c\u5927\u4e8b"
     ]
    },
    {
     "cell_type": "markdown",
     "metadata": {},
     "source": [
      "#### 2.5.1 \u30c7\u30fc\u30bf\u89e3\u6790\u306b\u304a\u3051\u308b\u63a8\u5b9a\u30fb\u4e88\u6e2c\u306e\u5f79\u5272\n",
      "\n",
      "\u7d71\u8a08\u30e2\u30c7\u30eb\u3092\u63a8\u5b9a\u3057\u305f\u3089\uff0c\u305d\u306e\u63a8\u5b9a\u7d50\u679c\u3092\u3046\u307e\u304f\u56f3\u793a\u3059\u308b\u3053\u3068\u304c\u91cd\u8981  \n",
      "\u30e2\u30c7\u30eb\u306e\u826f\u3055\u3068\u306f\uff0c\u30e2\u30c7\u30eb\u306e\u4e88\u6e2c\u6027\u80fd\u306b\u3088\u3063\u3066\u6c7a\u307e\u308b -> \u30e2\u30c7\u30eb\u3092\u63a8\u5b9a\u3057\u305f\u3060\u3051\uff0c\u691c\u5b9a\u3057\u305f\u3060\u3051\u3067\u306f\u30c0\u30e1"
     ]
    },
    {
     "cell_type": "markdown",
     "metadata": {},
     "source": [
      "### 2.6 \u78ba\u7387\u5206\u5e03\u306e\u9078\u3073\u304b\u305f\n",
      "\n",
      "\u30c7\u30fc\u30bf\u3092\u307f\u305f\u3089\u6b21\u306e\u70b9\u306b\u6ce8\u610f\n",
      "\n",
      "- \u8aac\u660e\u3057\u305f\u3044\u91cf\u306f\u96e2\u6563\u304b\u9023\u7d9a\u304b\uff1f\n",
      "- \u8aac\u660e\u3057\u305f\u3044\u91cf\u306e\u7bc4\u56f2\u306f\uff1f\n",
      "- \u8aac\u660e\u3057\u305f\u3044\u91cf\u306e\u6a19\u672c\u5206\u6563\u3068\u6a19\u672c\u5e73\u5747\u306e\u95a2\u4fc2\u306f\uff1f"
     ]
    },
    {
     "cell_type": "markdown",
     "metadata": {},
     "source": [
      "#### 2.6.1 \u3082\u3063\u3068\u8907\u96d1\u306a\u78ba\u7387\u5206\u5e03\u304c\u5fc5\u8981\u304b\uff1f\n",
      "\n",
      "\u30c7\u30fc\u30bf\u304c\u7c21\u5358\u306a\u78ba\u7387\u5206\u5e03\u3067\u8868\u73fe\u3067\u304d\u306a\u3055\u305d\u3046\u306a\u3068\u304d\u306f\u3069\u3046\u3059\u308b\u304b\n",
      "\n",
      "- \u300c\u30c7\u30fc\u30bf\u5316\u3055\u308c\u3066\u3044\u306a\u3044\u500b\u4f53\u5dee\u30fb\u898b\u306a\u304b\u3063\u305f\u500b\u4f53\u5dee\u300d\u3092\u304f\u307f\u3053\u3093\u3060\u7d71\u8a08\u30e2\u30c7\u30ea\u30f3\u30b0\u304c\u5fc5\u8981\n",
      "- \u78ba\u7387\u5206\u5e03\u3092\u6df7\u305c\u3042\u308f\u305b\u308b\u3053\u3068\u3067\u89e3\u6c7a\u53ef\u80fd"
     ]
    },
    {
     "cell_type": "markdown",
     "metadata": {},
     "source": [
      "### 2.7 \u3053\u306e\u7ae0\u306e\u307e\u3068\u3081\u3068\u53c2\u8003\u6587\u732e\n",
      "\n",
      "\u7701\u7565"
     ]
    },
    {
     "cell_type": "code",
     "collapsed": false,
     "input": [],
     "language": "python",
     "metadata": {},
     "outputs": []
    }
   ],
   "metadata": {}
  }
 ]
}