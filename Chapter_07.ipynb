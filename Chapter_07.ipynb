{
 "cells": [
  {
   "cell_type": "code",
   "execution_count": 1,
   "metadata": {
    "collapsed": false
   },
   "outputs": [
    {
     "data": {
      "text/html": [
       "<style>\n",
       "\n",
       "div.cell.border-box-sizing.code_cell.running {\n",
       "    border: 3px solid #111;\n",
       "}\n",
       "\n",
       "div.cell.code_cell {\n",
       "    background-color: rgba(171,165,131,0.3); \n",
       "    border-radius: 10px;\n",
       "    padding: 1em;\n",
       "    margin-top: 1em;\n",
       "}\n",
       "\n",
       ".CodeMirror{\n",
       "        font-family: monospace;\n",
       "        font-size: 110%;\n",
       "}\n",
       "\n",
       "div.text_cell_render{\n",
       "    font-family: \"Helvetica Neue\", Helvetica, \"Segoe UI\", Arial, freesans, sans-serif;\n",
       "    line-height: 130%;\n",
       "    font-size: 115%;\n",
       "}\n",
       "\n",
       "\n",
       "/* Formatting for image cells */\n",
       "\n",
       ".text_cell_render img {\n",
       "    height: 300px;\n",
       "    display: inline;\n",
       "}\n",
       "\n",
       "\n",
       "/* Formatting for header cells */\n",
       "\n",
       ".text_cell_render h1 {\n",
       "    font-weight: 400;\n",
       "    font-size: 32pt;\n",
       "    line-height: 100%;\n",
       "    color: rgb(12,85,97);\n",
       "    margin-bottom: 0.1em;\n",
       "    margin-top: 0.1em;\n",
       "    display: block;\n",
       "}\n",
       "\n",
       ".text_cell_render h2 {\n",
       "    font-weight: 700;\n",
       "    font-size: 20pt;\n",
       "    line-height: 100%;\n",
       "    color: rgb(171,165,131);\n",
       "    margin-bottom: 0.1em;\n",
       "    margin-top: 0.1em;\n",
       "    display: block;\n",
       "}    \n",
       "\n",
       "</style>"
      ],
      "text/plain": [
       "<IPython.core.display.HTML object>"
      ]
     },
     "execution_count": 1,
     "metadata": {},
     "output_type": "execute_result"
    }
   ],
   "source": [
    "from IPython.core.display import HTML\n",
    "css_file = './notebook.css'\n",
    "HTML(open(css_file, \"r\").read())"
   ]
  },
  {
   "cell_type": "code",
   "execution_count": 2,
   "metadata": {
    "collapsed": false
   },
   "outputs": [],
   "source": [
    "%matplotlib inline\n",
    "import matplotlib as mpl\n",
    "import matplotlib.pyplot as plt\n",
    "import numpy as np\n",
    "import pandas as pd\n",
    "\n",
    "prop = mpl.font_manager.FontProperties(fname='/Users/a-makabi/Library/Fonts/Ricty-Regular.ttf')\n",
    "mpl.rcParams['font.family'] = prop.get_name()\n",
    "\n",
    "plt.style.use('ggplot')\n",
    "pd.options.display.mpl_style = 'default'"
   ]
  },
  {
   "cell_type": "markdown",
   "metadata": {},
   "source": [
    "# 7章 一般化線形混合モデル (GLMM)\n",
    "\n",
    "実験・調査で得られたカウントデータのばらつきは，ポアソン分布や二項分布だけではうまく説明出来ない\n",
    "\n",
    "- 「説明変数以外は全部均質」といった条件は，現実の生物では満たされない\n",
    "- 説明変数が同じであるなら平均も同じというGLMの仮定が成立しない\n",
    "  - GLMでは，データにばらつきをもたらす「個体間の差異」を定量化出来ない\n",
    "\n",
    "この章の内容\n",
    "\n",
    "→ これまで登場したGLMでは現実のデータ解析には応用出来ない  \n",
    "→ 「人間が測定できない・測定しなかった個体差」を組み込んだGLMである， __一般化線形混合モデル (Generalized linear mixed model, GLMM)__ を考えよう．GLMMは，複数の確率分布を部品とする統計モデルである"
   ]
  },
  {
   "cell_type": "markdown",
   "metadata": {},
   "source": [
    "## 7.1 例題：GLMでは説明できないカウントデータ\n",
    "\n",
    "架空植物の各個体から8個の種子をとってきて，そのうちいくつが生存しているかを調査 (6章と同様)  \n",
    "生存種子数が葉数とともにどのように増大するかを解明するのが目的  \n",
    "今回は100個体を調査対象とした\n",
    "\n",
    "- x: 葉数 ( $2\\leq x_i\\leq 6$ となるように葉数を調整．葉数ごとの調査個体数は20)\n",
    "- y: 生存していた種子数 (全種子が生存していた場合: $y_i=8$，全種子が全滅していた場合: $y_i=0$)\n",
    "- N: 調査種子数 (今回の場合，全部8)"
   ]
  },
  {
   "cell_type": "code",
   "execution_count": 3,
   "metadata": {
    "collapsed": false,
    "scrolled": true
   },
   "outputs": [
    {
     "data": {
      "text/html": [
       "<div style=\"max-height:1000px;max-width:1500px;overflow:auto;\">\n",
       "<table border=\"1\" class=\"dataframe\">\n",
       "  <thead>\n",
       "    <tr style=\"text-align: right;\">\n",
       "      <th></th>\n",
       "      <th>N</th>\n",
       "      <th>y</th>\n",
       "      <th>x</th>\n",
       "    </tr>\n",
       "    <tr>\n",
       "      <th>id</th>\n",
       "      <th></th>\n",
       "      <th></th>\n",
       "      <th></th>\n",
       "    </tr>\n",
       "  </thead>\n",
       "  <tbody>\n",
       "    <tr>\n",
       "      <th>1</th>\n",
       "      <td>8</td>\n",
       "      <td>0</td>\n",
       "      <td>2</td>\n",
       "    </tr>\n",
       "    <tr>\n",
       "      <th>2</th>\n",
       "      <td>8</td>\n",
       "      <td>1</td>\n",
       "      <td>2</td>\n",
       "    </tr>\n",
       "    <tr>\n",
       "      <th>3</th>\n",
       "      <td>8</td>\n",
       "      <td>2</td>\n",
       "      <td>2</td>\n",
       "    </tr>\n",
       "    <tr>\n",
       "      <th>4</th>\n",
       "      <td>8</td>\n",
       "      <td>4</td>\n",
       "      <td>2</td>\n",
       "    </tr>\n",
       "    <tr>\n",
       "      <th>5</th>\n",
       "      <td>8</td>\n",
       "      <td>1</td>\n",
       "      <td>2</td>\n",
       "    </tr>\n",
       "  </tbody>\n",
       "</table>\n",
       "</div>"
      ],
      "text/plain": [
       "    N  y  x\n",
       "id         \n",
       "1   8  0  2\n",
       "2   8  1  2\n",
       "3   8  2  2\n",
       "4   8  4  2\n",
       "5   8  1  2"
      ]
     },
     "execution_count": 3,
     "metadata": {},
     "output_type": "execute_result"
    }
   ],
   "source": [
    "# data download: http://hosho.ees.hokudai.ac.jp/~kubo/ce/IwanamiBook.html\n",
    "df = pd.read_csv('data/data.csv', index_col='id')\n",
    "df.head()"
   ]
  },
  {
   "cell_type": "code",
   "execution_count": 4,
   "metadata": {
    "collapsed": false
   },
   "outputs": [
    {
     "data": {
      "text/plain": [
       "100"
      ]
     },
     "execution_count": 4,
     "metadata": {},
     "output_type": "execute_result"
    }
   ],
   "source": [
    "# 葉数が2~6の5種類で，それぞれ20個体調査しているので，全調査数は5*20=100\n",
    "df.x.size"
   ]
  },
  {
   "cell_type": "code",
   "execution_count": 5,
   "metadata": {
    "collapsed": false
   },
   "outputs": [],
   "source": [
    "def yi(xi, beta1, beta2):\n",
    "    # 生存種子数 yi = xi の調査種子数 × xi の生存確率\n",
    "    return 8 * qi(xi, beta1, beta2)\n",
    "\n",
    "def qi(xi, beta1, beta2):\n",
    "    # xi の生存確率の計算\n",
    "    return 1.0 / (1 + np.exp(-1 * (beta1 + xi * beta2)))\n",
    "\n",
    "def draw_heatmap(data):\n",
    "    fig, ax = plt.subplots()\n",
    "    ax.pcolor(data, cmap=plt.cm.Blues)\n",
    "\n",
    "    plt.yticks(np.arange(0.5, len(data.index), 1), data.index)\n",
    "    plt.xticks(np.arange(0.5, len(data.columns), 1), data.columns)\n",
    "    \n",
    "    ax.set_xlabel('num of leaves: xi')\n",
    "    ax.set_ylabel('num of alived seeds: yi')"
   ]
  },
  {
   "cell_type": "code",
   "execution_count": 6,
   "metadata": {
    "collapsed": false
   },
   "outputs": [
    {
     "data": {
      "image/png": "[encoded data removed]",
      "text/plain": [
       "<matplotlib.figure.Figure at 0x10d320be0>"
      ]
     },
     "metadata": {},
     "output_type": "display_data"
    }
   ],
   "source": [
    "seed_df = pd.DataFrame(df.groupby([df.x, df.y]).size(), columns=['count']).reset_index()\n",
    "seed_df_pivot = pd.pivot_table(seed_df, values='count', index=['y'], columns=['x']).fillna(0)\n",
    "\n",
    "# 生存種子数数のヒートマップ\n",
    "draw_heatmap(seed_df_pivot)\n",
    "\n",
    "# 真の生存確率 (β1=-4, β2=1) から求められた生存種子数 (破線)\n",
    "plt.plot([xi - seed_df.x.min() + 0.5 for xi in seed_df.x.unique()], [yi(xi, -4, 1) for xi in seed_df.x.unique()], 'k--', label='True')\n",
    "\n",
    "plt.legend()\n",
    "plt.show()"
   ]
  },
  {
   "cell_type": "markdown",
   "metadata": {},
   "source": [
    "観測された生存種子数が $y_i$ である確率が，生存確率 $q_i$ の二項分布に従うとする\n",
    "\n",
    "$$p(y_i | \\beta_1,\\beta_2) = q_i^{y_i}(1-q_i)^{8-y_i}$$\n",
    "\n",
    "$$$$\n",
    "\n",
    "二項分布の定義については，p.118を参照  \n",
    "上限のあるカウントデータを扱う際に利用する確率分布である\n",
    "\n",
    "個体 $i$ での種子の生存確率 $q_i$ が葉数 $x_i$ に依存するようにモデルを考える  \n",
    "確率分布が二項分布なので，ここではリンク関数にロジットリンク関数を考える (生存確率 $q_i$ が線形予測子のロジスティック関数であると仮定)\n",
    "\n",
    "$${\\rm logit}(q_i)=\\log\\frac{q_i}{1-q_i}=\\beta_1+\\beta_2x_i$$\n",
    "\n",
    "$$\\left(q_i={\\rm logistic}(\\beta_1+\\beta_2x_i)=\\frac{1}{1+\\exp(-(\\beta_1+\\beta_2x_i))}\\right)$$\n",
    "\n",
    " 全個体の対数尤度が最大になるような切片 $\\beta_1$ と葉数 $x_i$ の傾き $\\beta_2$ を探しだすのが，このモデルにおける最尤推定である\n",
    " \n",
    "$$\\log L=\\sum_i\\log p(y_i|\\beta_1,\\beta_2)$$"
   ]
  },
  {
   "cell_type": "code",
   "execution_count": 7,
   "metadata": {
    "collapsed": false
   },
   "outputs": [
    {
     "data": {
      "image/png": "[encoded data removed]",
      "text/plain": [
       "<matplotlib.figure.Figure at 0x110f5dd68>"
      ]
     },
     "metadata": {},
     "output_type": "display_data"
    }
   ],
   "source": [
    "# 生存種子数数のヒートマップ\n",
    "draw_heatmap(seed_df_pivot)\n",
    "\n",
    "# 真の生存確率 (β1=-4, β2=1) から求められた生存種子数 (破線)\n",
    "plt.plot([xi - seed_df.x.min() + 0.5 for xi in seed_df.x.unique()], [yi(xi, -4, 1) for xi in seed_df.x.unique()], 'k--', label='True')\n",
    "\n",
    "# GLMによって求められた推定値\n",
    "plt.plot([xi - seed_df.x.min() + 0.5 for xi in seed_df.x.unique()], [yi(xi, -2.15, 0.51) for xi in seed_df.x.unique()], color='red', label='GLM')\n",
    "\n",
    "plt.legend()\n",
    "plt.show()"
   ]
  },
  {
   "cell_type": "code",
   "execution_count": 8,
   "metadata": {
    "collapsed": false
   },
   "outputs": [
    {
     "data": {
      "text/plain": [
       "<matplotlib.text.Text at 0x10ecec7b8>"
      ]
     },
     "execution_count": 8,
     "metadata": {},
     "output_type": "execute_result"
    },
    {
     "data": {
      "image/png": "[encoded data removed]",
      "text/plain": [
       "<matplotlib.figure.Figure at 0x111069b70>"
      ]
     },
     "metadata": {},
     "output_type": "display_data"
    }
   ],
   "source": [
    "df4 = pd.DataFrame(df[df.x == 4].y.value_counts().reset_index())\n",
    "df4.columns = ['yi', 'num_y']\n",
    "plt.plot(df4.yi, df4.num_y, 'o', color='red', label='observed')\n",
    "\n",
    "pred_df4 = pd.DataFrame(pd.DataFrame([np.random.binomial(n=8, p=qi(4, -2.15, 0.51)) for i in range(10000)], columns=['x']).x.value_counts().reset_index())\n",
    "pred_df4.columns = ['yi', 'num_y']\n",
    "pred_df4 = pred_df4.sort(columns=['yi'])\n",
    "plt.plot(pred_df4.yi, [i * 0.002 for i in pred_df4.num_y], 'o--', label='GLM')\n",
    "\n",
    "plt.legend()\n",
    "plt.ylabel('count')\n",
    "plt.xlabel('num of alived seeds (if x = 4): yi')"
   ]
  },
  {
   "cell_type": "markdown",
   "metadata": {
    "collapsed": true
   },
   "source": [
    "## 7.2 過分散と個体差\n",
    "二項分布で期待されるよりも大きなばらつきを過分散 (または過大分散，overdispersion) という\n",
    "\n",
    "### 7.2.1 過分散：ばらつきが大きすぎる\n",
    "葉数 $x_i=4$ の個体の生存種子数のデータが，どのように「二項分布にあっていない」のか調査する"
   ]
  },
  {
   "cell_type": "code",
   "execution_count": 9,
   "metadata": {
    "collapsed": false
   },
   "outputs": [
    {
     "data": {
      "text/html": [
       "<div style=\"max-height:1000px;max-width:1500px;overflow:auto;\">\n",
       "<table border=\"1\" class=\"dataframe\">\n",
       "  <thead>\n",
       "    <tr style=\"text-align: right;\">\n",
       "      <th></th>\n",
       "      <th>3</th>\n",
       "      <th>8</th>\n",
       "      <th>0</th>\n",
       "      <th>5</th>\n",
       "      <th>7</th>\n",
       "      <th>6</th>\n",
       "      <th>4</th>\n",
       "      <th>2</th>\n",
       "      <th>1</th>\n",
       "    </tr>\n",
       "  </thead>\n",
       "  <tbody>\n",
       "    <tr>\n",
       "      <th>yi</th>\n",
       "      <td>0</td>\n",
       "      <td>1</td>\n",
       "      <td>2</td>\n",
       "      <td>3</td>\n",
       "      <td>4</td>\n",
       "      <td>5</td>\n",
       "      <td>6</td>\n",
       "      <td>7</td>\n",
       "      <td>8</td>\n",
       "    </tr>\n",
       "    <tr>\n",
       "      <th>num_y</th>\n",
       "      <td>3</td>\n",
       "      <td>1</td>\n",
       "      <td>4</td>\n",
       "      <td>2</td>\n",
       "      <td>1</td>\n",
       "      <td>1</td>\n",
       "      <td>2</td>\n",
       "      <td>3</td>\n",
       "      <td>3</td>\n",
       "    </tr>\n",
       "  </tbody>\n",
       "</table>\n",
       "</div>"
      ],
      "text/plain": [
       "       3  8  0  5  7  6  4  2  1\n",
       "yi     0  1  2  3  4  5  6  7  8\n",
       "num_y  3  1  4  2  1  1  2  3  3"
      ]
     },
     "execution_count": 9,
     "metadata": {},
     "output_type": "execute_result"
    }
   ],
   "source": [
    "df4.sort(columns=['yi']).T"
   ]
  },
  {
   "cell_type": "code",
   "execution_count": 10,
   "metadata": {
    "collapsed": false
   },
   "outputs": [
    {
     "data": {
      "text/plain": [
       "'実際の平均: 4.05, 実際の分散: 8.36578947368421 (生存確率の平均: 0.50625)'"
      ]
     },
     "execution_count": 10,
     "metadata": {},
     "output_type": "execute_result"
    }
   ],
   "source": [
    "mean = df[df.x == 4].y.mean()\n",
    "var = df[df.x == 4].y.var()\n",
    "N = df.N.values[0]\n",
    "\n",
    "\"実際の平均: {0}, 実際の分散: {1} (生存確率の平均: {2})\".format(mean, var, mean / N)"
   ]
  },
  {
   "cell_type": "code",
   "execution_count": 11,
   "metadata": {
    "collapsed": false
   },
   "outputs": [
    {
     "data": {
      "text/plain": [
       "'予測モデルの分散: 1.9996875'"
      ]
     },
     "execution_count": 11,
     "metadata": {},
     "output_type": "execute_result"
    }
   ],
   "source": [
    "# 生存種子数 yi が二項分布にしたがうと仮定した場合の分散\n",
    "\"予測モデルの分散: {0}\".format(N * (mean / N) * (1 - mean / N))"
   ]
  },
  {
   "cell_type": "markdown",
   "metadata": {},
   "source": [
    "実際の分散と4倍近くのずれがある  \n",
    "→ このデータは二項分布とよぶには「ばらつきが大きすぎる」"
   ]
  },
  {
   "cell_type": "markdown",
   "metadata": {},
   "source": [
    "### 7.2.2 観測されていない個体差がもたらす過分散\n",
    "単純な二項分布モデルからのずれの原因のひとつとして，観測されていない個体差があげられる  \n",
    "個体差を無視すると，観測された現象のパターンをうまく説明できない"
   ]
  },
  {
   "cell_type": "markdown",
   "metadata": {},
   "source": [
    "### 7.2.3 観測されていない個体差とは何か？\n",
    "データとしては定量化も識別化もされていないけれど，「各個体 (観測の単位) の何かに起因しているようにみえる差」のこと．少なくとも2種類の要因が考えられる\n",
    "\n",
    "- 生物的 (biotic): 個体の遺伝子 等\n",
    "- 非生物的 (abiotic): 局所的な栄養塩類量や水環境 等 --> __場所差__ または __ブロック差__\n",
    "\n",
    "架空植物に影響を与えている要因すべてを定量・特定することは不可能なので，このような個体差や場所差を原因不明のまま，これらのおよぼす影響をうまくとりこんだ統計モデルが必要になる"
   ]
  },
  {
   "cell_type": "markdown",
   "metadata": {},
   "source": [
    "## 7.3 一般化線形混合モデル\n",
    "一般化線形混合モデル (GLMM) は，個体差や場所差の効果をGLMにくみこんだ統計モデルである"
   ]
  },
  {
   "cell_type": "markdown",
   "metadata": {},
   "source": [
    "### 7.3.1 個体差をあらわすパラメータの追加\n",
    "生存確率 $q_i$ をあらわす式に，個体 $i$ の個体差をあらわすパラメータ $r_i\\ (-\\infty〜\\infty )$ を追加する\n",
    "\n",
    "$${\\rm logit}(q_i)=\\beta_1+\\beta_2x_i+r_i$$\n",
    "\n",
    "同じ葉数 $x_i$ であっても，個体差 $r_i>0$ となった場合には「平均的な個体 ($r_i=0$) 」より生存確率が高くなり，$r_i<0$ では低くなる"
   ]
  },
  {
   "cell_type": "code",
   "execution_count": 12,
   "metadata": {
    "collapsed": false
   },
   "outputs": [
    {
     "data": {
      "text/plain": [
       "<matplotlib.text.Text at 0x110fb6f28>"
      ]
     },
     "execution_count": 12,
     "metadata": {},
     "output_type": "execute_result"
    },
    {
     "data": {
      "image/png": "[encoded data removed]",
      "text/plain": [
       "<matplotlib.figure.Figure at 0x110fd0e80>"
      ]
     },
     "metadata": {},
     "output_type": "display_data"
    }
   ],
   "source": [
    "def new_qi(xi, beta1, beta2, ri):\n",
    "    # xi の生存確率の計算\n",
    "    return 1.0 / (1 + np.exp(-1 * (beta1 + xi * beta2 + ri)))\n",
    "\n",
    "# ri = 1.5 (ri > 0) ※赤\n",
    "plt.plot([xi for xi in seed_df.x.unique()], [new_qi(xi, -4, 1, 1.5) for xi in seed_df.x.unique()], 'r', label='ri=1.5')\n",
    "plt.ylim(ymin=0.0, ymax=1.0)\n",
    "\n",
    "# ri = 0 ※黒\n",
    "plt.plot([xi for xi in seed_df.x.unique()], [new_qi(xi, -4, 1, 0) for xi in seed_df.x.unique()], 'k', label='ri=0')\n",
    "plt.ylim(ymin=0.0, ymax=1.0)\n",
    "\n",
    "# ri = 1.5 (ri < 0) ※青\n",
    "plt.plot([xi for xi in seed_df.x.unique()], [new_qi(xi, -4, 1, -1.5) for xi in seed_df.x.unique()], 'b', label='ri=-1.5')\n",
    "plt.ylim(ymin=0.0, ymax=1.0)\n",
    "\n",
    "plt.legend()\n",
    "plt.xlabel('num of leaves: xi')\n",
    "plt.ylabel('survival rate: qi')"
   ]
  },
  {
   "cell_type": "markdown",
   "metadata": {},
   "source": [
    "### 7.3.2 個体差のばらつきをあらわす確率分布\n",
    "GLMMの特徴は，個体差のばらつきをあらわすパラメータが何かの確率分布に従っていると仮定し，データにもとづいてその確率分布のパラメータまで推定できるところである  \n",
    "ここでは，個体差 $r_i$ は平均ゼロで標準偏差 $s$ の正規分布に従うと仮定する  \n",
    "(※正規分布を仮定すると便利であるだけであって根拠はない)\n",
    "\n",
    "- 個体差のばらつきが小さい --> $s$ が小さい\n",
    "- 個体差のばらつきが大きい --> $s$ が大きい"
   ]
  },
  {
   "cell_type": "markdown",
   "metadata": {},
   "source": [
    "### 7.3.3 線形予測子の構成要素：固定効果とランダム効果\n",
    "線形予測子の構成要素として，固定効果とランダム効果をもつ統計モデルを混合 (mixed) モデルと呼ぶ  \n",
    "たとえば今回のモデルの場合，固定効果 / ランダム効果は以下の通りとなる\n",
    "\n",
    "- 固定効果 (fixed effects): $\\beta_1$, $\\beta_2x_i$\n",
    "- ランダム効果 (random effects): $r_i$"
   ]
  },
  {
   "cell_type": "markdown",
   "metadata": {},
   "source": [
    "## 7.4 一般化線形混合モデルの最尤推定\n",
    "個体差 $r_i$ は最尤推定できないが，切片 $\\beta_1$ と傾き $\\beta_2$ を最尤推定したい  \n",
    "一つの方法は，個体ごとの尤度 $L_i$ の式の中で， $r_i$ を積分することである\n",
    "\n",
    "$$L_i=\\int_{-\\infty}^{\\infty}p(y_i|\\beta_1,\\beta_2,r_i)p(r_i|s)dr_i$$\n",
    "\n",
    "これは，いろいろな $r_i$ の値における尤度を評価し，その期待値を算出することに相当する"
   ]
  },
  {
   "cell_type": "code",
   "execution_count": 13,
   "metadata": {
    "collapsed": true
   },
   "outputs": [],
   "source": [
    "# β=0 と置いているため，以下の通り書き換えられる\n",
    "qi = lambda ri: 1. / (1 + np.exp(-1 * ri))\n",
    "pr = lambda ri, s: 1. / np.sqrt(2 * np.pi * (s * s)) * np.exp(-1 * (ri ** 2 / (2 * s * s)))"
   ]
  },
  {
   "cell_type": "code",
   "execution_count": 14,
   "metadata": {
    "collapsed": false
   },
   "outputs": [
    {
     "data": {
      "image/png": "[encoded data removed]",
      "text/plain": [
       "<matplotlib.figure.Figure at 0x111071550>"
      ]
     },
     "metadata": {},
     "output_type": "display_data"
    },
    {
     "name": "stdout",
     "output_type": "stream",
     "text": [
      "r=-0.6と置いた場合：\n",
      "q=0.1303475646584853\n",
      "p(r)=0.1303475646584853\n"
     ]
    }
   ],
   "source": [
    "r = -0.60\n",
    "q = qi(r)\n",
    "\n",
    "pred_df4 = pd.DataFrame(pd.DataFrame([np.random.binomial(n=8, p=q) for i in range(100000)], columns=['x']).x.value_counts().reset_index())\n",
    "pred_df4.columns = ['yi', 'num_y']\n",
    "pred_df4 = pred_df4.sort(columns=['yi'])\n",
    "plt.plot(pred_df4.yi, [i * 0.0002 for i in pred_df4.num_y], 'o--', label='GLM')\n",
    "plt.show()\n",
    "\n",
    "# 分散は3で固定されている\n",
    "p = pr(r, 3)\n",
    "\n",
    "print('r={0}と置いた場合：'.format(r))\n",
    "print('q={0}'.format(p))\n",
    "print('p(r)={0}'.format(p))"
   ]
  },
  {
   "cell_type": "code",
   "execution_count": 15,
   "metadata": {
    "collapsed": false
   },
   "outputs": [
    {
     "data": {
      "text/plain": [
       "defaultdict(<class 'float'>, {0: 43.223469942031819, 1: 21.306832936488124, 2: 15.46571666357757, 3: 13.822066904045586, 4: 12.799212892568857, 5: 13.44123789132076, 6: 15.62145687496934, 7: 21.373150330796982, 8: 42.946855564200995})"
      ]
     },
     "execution_count": 15,
     "metadata": {},
     "output_type": "execute_result"
    }
   ],
   "source": [
    "from collections import defaultdict\n",
    "mixed_y = defaultdict(float)\n",
    "for i in range(-1000, 1000, 1):\n",
    "    r = i * 0.1\n",
    "    q = qi(r)\n",
    "    p = pr(r, 3)\n",
    "    pred = pd.Series(np.random.binomial(n=8, p=q) for j in range(1000)).value_counts().to_dict()\n",
    "    for idx, value in pred.items():\n",
    "        mixed_y[idx] += 0.02 * value * p\n",
    "mixed_y"
   ]
  },
  {
   "cell_type": "code",
   "execution_count": 16,
   "metadata": {
    "collapsed": false
   },
   "outputs": [
    {
     "data": {
      "text/plain": [
       "[<matplotlib.lines.Line2D at 0x10df7f5f8>]"
      ]
     },
     "execution_count": 16,
     "metadata": {},
     "output_type": "execute_result"
    },
    {
     "data": {
      "image/png": "[encoded data removed]",
      "text/plain": [
       "<matplotlib.figure.Figure at 0x111075ac8>"
      ]
     },
     "metadata": {},
     "output_type": "display_data"
    }
   ],
   "source": [
    "# 二項分布と正規分布の無限混合分布の例\n",
    "plt.plot(list(mixed_y.keys()), list(mixed_y.values()), 'o--')"
   ]
  },
  {
   "cell_type": "markdown",
   "metadata": {},
   "source": [
    "### 7.4.1 Rを使ってGLMMのパラメータを推定\n",
    "Pythonで実装してたやつが間違えていたけど直せなかった・・・無念"
   ]
  },
  {
   "cell_type": "markdown",
   "metadata": {},
   "source": [
    "## 7.5 現実のデータ解析にはGLMMが必要\n",
    "GLMMが必要になるかどうかは，「同じ個体・場所などから何度もサンプリングしているか」あるいは「個体差や場所差が識別できてしまうようなデータのとりかたをしているか」に依存する"
   ]
  },
  {
   "cell_type": "markdown",
   "metadata": {},
   "source": [
    "### 7.5.1 反復・擬似反復と統計モデルの関係\n",
    "\n",
    "- 各個体でひとつだけ種子の生存を調べている場合\n",
    "  - 統計モデルに個体差・場所さを入れようがない → GLMMを使えない\n",
    "  - 個体と植木鉢の両方が反復\n",
    "- 各植木鉢から一つの個体を選び，各個体から複数の種子を採取\n",
    "  - 個体のばらつきを考慮したGLMMが使える\n",
    "- 各植木鉢から複数の個体を選び，各個体から一つの種子を採取\n",
    "  - 植木鉢のばらつきを考慮したGLMMが使える\n",
    "- 各植木鉢から複数の個体を選び，各個体から複数の種子を採取\n",
    "  - GLMMと最尤推定の組合せではなく，階層ベイズモデルとMCMCを使おう"
   ]
  },
  {
   "cell_type": "markdown",
   "metadata": {},
   "source": [
    "## 7.6 いろいろな分布のGLMM\n",
    "本を参照"
   ]
  },
  {
   "cell_type": "code",
   "execution_count": null,
   "metadata": {
    "collapsed": true
   },
   "outputs": [],
   "source": []
  }
 ],
 "metadata": {
  "kernelspec": {
   "display_name": "Python 3",
   "language": "python",
   "name": "python3"
  },
  "language_info": {
   "codemirror_mode": {
    "name": "ipython",
    "version": 3
   },
   "file_extension": ".py",
   "mimetype": "text/x-python",
   "name": "python",
   "nbconvert_exporter": "python",
   "pygments_lexer": "ipython3",
   "version": "3.4.3"
  }
 },
 "nbformat": 4,
 "nbformat_minor": 0
}
